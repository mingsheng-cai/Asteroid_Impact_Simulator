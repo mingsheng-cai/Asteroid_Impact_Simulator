{
 "cells": [
  {
   "cell_type": "markdown",
   "metadata": {},
   "source": [
    "# Introduction to `damage.py` modeule"
   ]
  },
  {
   "cell_type": "code",
   "execution_count": null,
   "metadata": {},
   "outputs": [],
   "source": [
    "import deepimpact\n",
    "import numpy as np\n",
    "from scipy.optimize import fsolve\n",
    "import matplotlib.pyplot as plt\n",
    "\n",
    "outcome = {'burst_altitude': 8e3, 'burst_energy': 7e3,\n",
    "           'burst_distance': 90e3, 'burst_peak_dedz': 1e3,\n",
    "           'outcome': 'Airburst'}\n"
   ]
  },
  {
   "cell_type": "markdown",
   "metadata": {},
   "source": [
    "This module of the package deepimpact is designed to perform sophisticated calculations related to the assessment of damage and impact risks in a variety of scenarios. It offers a set of tools for determining the geographical point of maximum impact (surface zero) and for calculating the radius of the damage zone"
   ]
  },
  {
   "cell_type": "markdown",
   "metadata": {},
   "source": [
    "## `damage_zones` function"
   ]
  },
  {
   "cell_type": "markdown",
   "metadata": {},
   "source": [
    "The `damage_zones` function in the `damage.py` module is a sophisticated tool designed for calculating the impact zone in meteoroid strikes. It essentially serves two purposes: determining the geographic coordinates of surface zero (the point of maximum impact) and calculating the radii of airblast damage zones."
   ]
  },
  {
   "cell_type": "markdown",
   "metadata": {},
   "source": [
    "### Functionality"
   ]
  },
  {
   "cell_type": "markdown",
   "metadata": {},
   "source": [
    "- Surface Zero Calculation: It computes the latitude and longitude of the surface zero point, which is critical for identifying the impact location.\n",
    "\n",
    "- Damage Zone Radii: The function calculates a series of airblast damage radii, each corresponding to different levels of impact severity. These radii are determined based on varying threshold pressures that signify different damage levels."
   ]
  },
  {
   "cell_type": "markdown",
   "metadata": {},
   "source": [
    "Calculating zero_point is as simple as following the formula in the documentation.\n",
    "\n",
    "Note that the conversion between angle and radian is done during the calculation."
   ]
  },
  {
   "cell_type": "code",
   "execution_count": null,
   "metadata": {},
   "outputs": [
    {
     "name": "stdout",
     "output_type": "stream",
     "text": [
      "52.21396905216966 -2.015908861677074\n"
     ]
    }
   ],
   "source": [
    "lat, lon, _ = deepimpact.damage_zones(outcome, 52.79, -2.95, 135, pressures=[1e3, 3.5e3, 27e3, 43e3])\n",
    "\n",
    "print(lat, lon)\n"
   ]
  },
  {
   "cell_type": "markdown",
   "metadata": {},
   "source": [
    "I used the function `calculate_surface_zero` to calculate the corresponding latitude and longitude.\n",
    "\n",
    "We can call this function separately for timing to see the time overhead of the run."
   ]
  },
  {
   "cell_type": "code",
   "execution_count": null,
   "metadata": {},
   "outputs": [
    {
     "name": "stdout",
     "output_type": "stream",
     "text": [
      "7.07 µs ± 75.6 ns per loop (mean ± std. dev. of 7 runs, 100,000 loops each)\n"
     ]
    }
   ],
   "source": [
    "%%timeit\n",
    "blat, blon = deepimpact.damage.calculate_surface_zero(52.79, -2.95, 135, outcome['burst_distance'])\n"
   ]
  },
  {
   "cell_type": "markdown",
   "metadata": {},
   "source": [
    "Seems that it's quite fast."
   ]
  },
  {
   "cell_type": "markdown",
   "metadata": {},
   "source": [
    "Calculating the blast radius is relatively complex. The blast radius is a non-linear function of pressure, elevation and energy.\n",
    "\n",
    "Since an analytical solution is not available, we need to approximate it using numerical methods.\n",
    "\n",
    "A relatively quick way to solve for the approximation is to use the `fsolve` function in `scipy.optimise`. However, we are not allowed to use the existing solver in the assignment."
   ]
  },
  {
   "cell_type": "code",
   "execution_count": null,
   "metadata": {},
   "outputs": [
    {
     "name": "stdout",
     "output_type": "stream",
     "text": [
      "Approximate solution for r: 9518.16176403675\n"
     ]
    }
   ],
   "source": [
    "# Define the function representing the equation\n",
    "def equation_to_solve(r, z, k, p):\n",
    "    return 3 * 10**11 * ((r**2 + z**2) / k**(2/3))**(-1.3) + 2 * 10**7 * ((r**2 + z**2) / k**(2/3))**(-0.57) - p\n",
    "\n",
    "# Given values\n",
    "z_value = outcome['burst_altitude']\n",
    "e_value = outcome['burst_energy']\n",
    "p_value = 27e3\n",
    "\n",
    "# Use fsolve to find the root (solution for r)\n",
    "initial_guess = 1e4\n",
    "result = fsolve(equation_to_solve, initial_guess, args=(z_value, e_value, p_value))\n",
    "\n",
    "print(\"Approximate solution for r:\", result[0])\n"
   ]
  },
  {
   "cell_type": "markdown",
   "metadata": {},
   "source": [
    "### Mathematical Methods"
   ]
  },
  {
   "cell_type": "markdown",
   "metadata": {},
   "source": [
    "#### Newton-Raphson Method\n",
    "\n",
    "The Newton-Raphson method, also known as the Newton method, is a powerful and widely used tool in numerical analysis for finding successively better approximations to the roots (or zeroes) of a real-valued function.\n",
    "\n",
    "The fundamental idea is to start with an initial guess which is reasonably close to the true root, and then to use the function's derivative to refine that guess iteratively.\n",
    "\n",
    "The Newton-Raphson formula is:\n"
   ]
  },
  {
   "cell_type": "markdown",
   "metadata": {},
   "source": [
    "$$ x_{n+1} = x_n - \\frac{f(x_n)}{f'(x_n)} $$"
   ]
  },
  {
   "cell_type": "markdown",
   "metadata": {},
   "source": [
    "Here, `f(x)` is the function whose root is being sought, and `f'(x)` is its derivative."
   ]
  },
  {
   "cell_type": "markdown",
   "metadata": {},
   "source": [
    "The main process of this method is:\n",
    "- Initial Guess: Begin with a preliminary estimate `x0` of the root.\n",
    "- Iteration: Use the Newton-Raphson formula to calculate a new approximation `x1`.\n",
    "- Convergence Check: Assess if the difference between successive approximations is within a desired tolerance level. If not, repeat the iteration process using the new approximation as the starting point."
   ]
  },
  {
   "cell_type": "code",
   "execution_count": null,
   "metadata": {},
   "outputs": [],
   "source": [
    "def approach_radius_by_newton_raphson(\n",
    "    p_val, e_val, z_val, r_guess, tolerance=1e-8, max_iter=100\n",
    "):\n",
    "    \"\"\"\n",
    "    Approach the radius of the meteoroid using Newton-Raphson method\n",
    "\n",
    "    Parameters\n",
    "    ----------\n",
    "\n",
    "    p_val : float\n",
    "        Pressure value\n",
    "    e_val : float\n",
    "        Energy value\n",
    "    z_val : float\n",
    "        Altitude value\n",
    "    r_guess : float\n",
    "        Initial guess for the radius of the meteoroid\n",
    "    tolerance : float, optional\n",
    "        Tolernace of the radius, by default 1e-8\n",
    "    max_iter : int, optional\n",
    "        Maximum number of iterations, by default 100\n",
    "\n",
    "    Returns\n",
    "    -------\n",
    "\n",
    "    float\n",
    "        Radius of the meteoroid\n",
    "\n",
    "    Acknowledgements\n",
    "    ----------------\n",
    "\n",
    "        ChatGPT4\n",
    "        Github Copilot\n",
    "    \"\"\"\n",
    "\n",
    "    r, z, e, p = sp.symbols(\"r z e p\")\n",
    "\n",
    "    expression = (\n",
    "        3 * 10**11 * ((r**2 + z**2) / e ** (2 / 3)) ** (-1.3)\n",
    "        + 2 * 10**7 * ((r**2 + z**2) / e ** (2 / 3)) ** (-0.57)\n",
    "        - p\n",
    "    )\n",
    "\n",
    "    derivative = sp.diff(expression, r)\n",
    "\n",
    "    next_iteration = (\n",
    "        lambda r_value, z_value, e_value, p_value: r_value\n",
    "        - expression.subs({r: r_value, z: z_value, e: e_value, p: p_value})\n",
    "        / derivative.subs({r: r_value, z: z_value, e: e_value, p: p_value})\n",
    "    )\n",
    "\n",
    "    for i in range(max_iter):\n",
    "        r_next = next_iteration(r_guess, z_val, e_val, p_val)\n",
    "        if abs(r_next - r_guess) < tolerance:\n",
    "            break\n",
    "        r_guess = r_next\n",
    "\n",
    "    return float(r_next)\n"
   ]
  },
  {
   "cell_type": "markdown",
   "metadata": {},
   "source": [
    "We can use the Newton-Rhapson method to approximate the radius given `P(r)`, `z_b`, `E_k`, which gives a more accurate value. (That's how we've implemented it, too.)"
   ]
  },
  {
   "cell_type": "code",
   "execution_count": null,
   "metadata": {},
   "outputs": [
    {
     "data": {
      "text/plain": [
       "[9518.161764036751, 5729.404487549425]"
      ]
     },
     "metadata": {},
     "output_type": "display_data"
    }
   ],
   "source": [
    "deepimpact.damage.calculate_damage_radius([27e3, 43e3], outcome['burst_energy'], outcome['burst_altitude'])\n"
   ]
  },
  {
   "cell_type": "markdown",
   "metadata": {},
   "source": [
    "#### Binary Search (binsearch)\n",
    "Provides the initial guess for the Newton-Raphson method. The binary search algorithm narrows down the range in which the root lies, enhancing the precision of the starting point for Newton-Raphson iterations.\n",
    "\n",
    "These methods ensure high precision and reliability in calculating the radii for damage assessment in disaster management scenarios."
   ]
  },
  {
   "cell_type": "code",
   "execution_count": null,
   "metadata": {},
   "outputs": [],
   "source": [
    "def bisect_for_initial_guess(func, interval, tolerance=1e-8, max_iter=100):\n",
    "    \"\"\"\n",
    "    Find the initial guess for the radius of the meteoroid\n",
    "\n",
    "    Parameters\n",
    "    ----------\n",
    "\n",
    "    func : function\n",
    "        Function to find the initial guess for\n",
    "    interval : turple\n",
    "        Interval to find the initial guess in\n",
    "    tolerance : float, optional\n",
    "        Tolernace of the initial guess, by default 1e-8\n",
    "    max_iter : int, optional\n",
    "        Maximum number of iterations, by default 100\n",
    "\n",
    "    Returns\n",
    "    -------\n",
    "\n",
    "    float\n",
    "        Initial guess for the radius of the meteoroid\n",
    "    \"\"\"\n",
    "\n",
    "    a, b = interval\n",
    "\n",
    "    for _ in range(max_iter):\n",
    "        mid_point = (a + b) / 2\n",
    "        if func(mid_point) == 0 or (b - a) / 2 < tolerance:\n",
    "            return mid_point\n",
    "        elif np.sign(func(mid_point)) == np.sign(func(a)):\n",
    "            a = mid_point\n",
    "        else:\n",
    "            b = mid_point\n",
    "\n",
    "    return (a + b) / 2\n"
   ]
  },
  {
   "cell_type": "markdown",
   "metadata": {},
   "source": [
    "We begin with an approximate solution of the function root using `bisect_for_initial_guess`. During this process, the left and right boundaries are updated until `tolerance` is reached or the maximum number of iterations `max_iter` is reached, by judging the sign of the midpoint of the interval set and the boundaries."
   ]
  },
  {
   "cell_type": "code",
   "execution_count": 6,
   "metadata": {},
   "outputs": [
    {
     "data": {
      "text/plain": [
       "9518.16176404152"
      ]
     },
     "execution_count": 6,
     "metadata": {},
     "output_type": "execute_result"
    }
   ],
   "source": [
    "equation_to_solve = lambda r: 3 * 10**11 * ((r**2 + z_value**2) / e_value**(2/3))**(-1.3) + 2 * 10**7 * ((r**2 + z_value**2) / e_value**(2/3))**(-0.57) - p_value\n",
    "initial_interval = (1e-10, 1e10)\n",
    "\n",
    "deepimpact.damage.bisect_for_initial_guess(equation_to_solve, initial_interval)\n"
   ]
  },
  {
   "cell_type": "code",
   "execution_count": 7,
   "metadata": {},
   "outputs": [
    {
     "data": {
      "image/png": "[encoded data removed]",
      "text/plain": [
       "<Figure size 1000x600 with 1 Axes>"
      ]
     },
     "metadata": {},
     "output_type": "display_data"
    }
   ],
   "source": [
    "import numpy as np\n",
    "import matplotlib.pyplot as plt\n",
    "from scipy.optimize import bisect\n",
    "\n",
    "# Define the equation\n",
    "# z_value = 1.5  # Example value for z_value\n",
    "# e_value = 2.5  # Example value for e_value\n",
    "# p_value = 3.0  # Example value for p_value\n",
    "\n",
    "def equation_to_solve(r):\n",
    "    return 3 * 10**11 * ((r**2 + z_value**2) / e_value**(2/3))**(-1.3) + 2 * 10**7 * ((r**2 + z_value**2) / e_value**(2/3))**(-0.57) - p_value\n",
    "\n",
    "# Define the range of r values\n",
    "r_values = np.logspace(-10, 10, 400)\n",
    "\n",
    "# Calculate the corresponding values of the equation\n",
    "equation_values = [equation_to_solve(r) for r in r_values]\n",
    "\n",
    "# Adjusted intervals for root finding\n",
    "adjusted_intervals = [(1e-10, 1e-6), (1e0, 1e2), (1e4, 1e6)]\n",
    "\n",
    "# Plot the graph\n",
    "plt.figure(figsize=(10, 6))\n",
    "plt.loglog(r_values, equation_values, label=\"Equation Values\")\n",
    "plt.axhline(1, color='blue', lw=2, label=\"y = 0\")\n",
    "\n",
    "# Highlighting the adjusted intervals\n",
    "for interval in adjusted_intervals:\n",
    "    plt.axvspan(interval[0], interval[1], color='yellow', alpha=0.3)\n",
    "\n",
    "# Marking the point (9518, 0)\n",
    "plt.scatter(9518.16176404152, 1, color='red', s=50, label=\"Point (9518, 1)\")\n",
    "\n",
    "plt.xlabel(\"r\")\n",
    "plt.ylabel(\"Equation Value\")\n",
    "plt.title(\"Graph of the Equation with Point (9518, 0) Marked\")\n",
    "plt.legend()\n",
    "plt.grid(True)\n",
    "plt.show()\n"
   ]
  },
  {
   "cell_type": "markdown",
   "metadata": {},
   "source": [
    "Thereafter, we use the approximate root as the initial value of `r_guess`, perform an exact approximation using Newton's method, and save the final result. Then we can call these helper functions in damage_zones to get our desired outputs."
   ]
  },
  {
   "cell_type": "code",
   "execution_count": 8,
   "metadata": {},
   "outputs": [
    {
     "name": "stdout",
     "output_type": "stream",
     "text": [
      "[117474.67966268047, 43146.33898840085, 9518.161764036751, 5729.404487549425]\n"
     ]
    }
   ],
   "source": [
    "_, __, radii = deepimpact.damage_zones(outcome, 52.79, -2.95, 135, pressures=[1e3, 3.5e3, 27e3, 43e3])\n",
    "\n",
    "print(radii)\n"
   ]
  },
  {
   "cell_type": "markdown",
   "metadata": {},
   "source": [
    "Let's take a look at the time it will take to complete the calculation."
   ]
  },
  {
   "cell_type": "code",
   "execution_count": 9,
   "metadata": {},
   "outputs": [
    {
     "name": "stdout",
     "output_type": "stream",
     "text": [
      "1.53 ms ± 3.39 µs per loop (mean ± std. dev. of 7 runs, 1,000 loops each)\n"
     ]
    }
   ],
   "source": [
    "%%timeit\n",
    "_, __, radii = deepimpact.damage_zones(outcome, 52.79, -2.95, 135, pressures=[1e3, 3.5e3, 27e3, 43e3])\n"
   ]
  },
  {
   "cell_type": "markdown",
   "metadata": {},
   "source": [
    "That's good! Time consumption for small samples was kept to milliseconds."
   ]
  },
  {
   "cell_type": "markdown",
   "metadata": {},
   "source": [
    "## Description of the Impact Risk function"
   ]
  },
  {
   "cell_type": "markdown",
   "metadata": {},
   "source": [
    "# Impact Risk Function Description\n",
    "\n",
    "The `impact_risk` function is designed to evaluate the risk associated with various impact scenarios, specifically targeting geographical areas delineated by postcodes. It serves a critical role in risk assessment and disaster preparedness by providing insights into the potential effects of catastrophic events. The function operates by analyzing a comprehensive dataset of impact scenarios, each characterized by a unique set of parameters.\n",
    "\n",
    "## Functionality\n",
    "\n",
    "- **Input**: The function takes a `.csv` file as input. This file comprises a distribution of hypothetical impact scenarios. Each scenario includes detailed attributes such as radius, angle, velocity, density, strength, entry latitude, entry longitude, and bearing.\n",
    "\n",
    "- **Output**: The function outputs two key pieces of information:\n",
    "  1. **Postcode Risk Probability**: It calculates the fractional probability that each postcode falls within a specified damage level for each scenario. This probability is determined by the ratio of the number of times a postcode is within the damage level to the total number of scenarios.\n",
    "  2. **Population Impact Statistics**: It provides statistical data — mean and standard deviation — regarding the total population affected by the impacts. The 'affected population' is defined as those residing within the blast radius of a specified damage level, measured by a user-defined pressure threshold (e.g., 30 kPa).\n",
    "\n",
    "## Key Features\n",
    "\n",
    "- **Risk Assessment by Postcode**: By focusing on postcodes, the function offers granular insights into the risk distribution across different areas, essential for localized disaster management strategies.\n",
    "\n",
    "- **Statistical Analysis of Population Impact**: The function's capability to compute the mean and standard deviation of the affected population under different scenarios aids in understanding the potential scale and variability of impact, facilitating better resource allocation and emergency planning.\n",
    "\n",
    "## Use Case\n",
    "\n",
    "The `impact_risk` function is particularly valuable for governmental agencies, emergency response teams, and urban planners in preparing for and mitigating the effects of catastrophic events. Its data-driven approach provides a scientific basis for risk mitigation strategies, emergency response planning, and resource allocation.\n",
    "\n",
    "In summary, the `impact_risk` function is a powerful tool for assessing the risks associated with various impact scenarios, providing vital data for effective disaster management and preparedness.\n"
   ]
  },
  {
   "cell_type": "code",
   "execution_count": 10,
   "metadata": {},
   "outputs": [],
   "source": [
    "planet = deepimpact.Planet()\n"
   ]
  },
  {
   "cell_type": "code",
   "execution_count": 12,
   "metadata": {},
   "outputs": [],
   "source": [
    "df, pop_stats = deepimpact.impact_risk(planet)\n"
   ]
  },
  {
   "cell_type": "code",
   "execution_count": 13,
   "metadata": {},
   "outputs": [
    {
     "data": {
      "text/html": [
       "<div>\n",
       "<style scoped>\n",
       "    .dataframe tbody tr th:only-of-type {\n",
       "        vertical-align: middle;\n",
       "    }\n",
       "\n",
       "    .dataframe tbody tr th {\n",
       "        vertical-align: top;\n",
       "    }\n",
       "\n",
       "    .dataframe thead th {\n",
       "        text-align: right;\n",
       "    }\n",
       "</style>\n",
       "<table border=\"1\" class=\"dataframe\">\n",
       "  <thead>\n",
       "    <tr style=\"text-align: right;\">\n",
       "      <th></th>\n",
       "      <th>postcode</th>\n",
       "      <th>probability</th>\n",
       "    </tr>\n",
       "  </thead>\n",
       "  <tbody>\n",
       "    <tr>\n",
       "      <th>0</th>\n",
       "      <td>CV130AA</td>\n",
       "      <td>0.4</td>\n",
       "    </tr>\n",
       "    <tr>\n",
       "      <th>1</th>\n",
       "      <td>CV130AB</td>\n",
       "      <td>0.4</td>\n",
       "    </tr>\n",
       "    <tr>\n",
       "      <th>2</th>\n",
       "      <td>CV130AD</td>\n",
       "      <td>0.4</td>\n",
       "    </tr>\n",
       "    <tr>\n",
       "      <th>3</th>\n",
       "      <td>CV130AE</td>\n",
       "      <td>0.7</td>\n",
       "    </tr>\n",
       "    <tr>\n",
       "      <th>4</th>\n",
       "      <td>CV130AG</td>\n",
       "      <td>0.6</td>\n",
       "    </tr>\n",
       "    <tr>\n",
       "      <th>...</th>\n",
       "      <td>...</td>\n",
       "      <td>...</td>\n",
       "    </tr>\n",
       "    <tr>\n",
       "      <th>13628</th>\n",
       "      <td>LE9 6TP</td>\n",
       "      <td>0.2</td>\n",
       "    </tr>\n",
       "    <tr>\n",
       "      <th>13629</th>\n",
       "      <td>LE9 6TQ</td>\n",
       "      <td>0.2</td>\n",
       "    </tr>\n",
       "    <tr>\n",
       "      <th>13630</th>\n",
       "      <td>LE9 6TS</td>\n",
       "      <td>0.1</td>\n",
       "    </tr>\n",
       "    <tr>\n",
       "      <th>13631</th>\n",
       "      <td>LE9 6TX</td>\n",
       "      <td>0.2</td>\n",
       "    </tr>\n",
       "    <tr>\n",
       "      <th>13632</th>\n",
       "      <td>LE9 6WB</td>\n",
       "      <td>0.2</td>\n",
       "    </tr>\n",
       "  </tbody>\n",
       "</table>\n",
       "<p>13633 rows × 2 columns</p>\n",
       "</div>"
      ],
      "text/plain": [
       "      postcode  probability\n",
       "0      CV130AA          0.4\n",
       "1      CV130AB          0.4\n",
       "2      CV130AD          0.4\n",
       "3      CV130AE          0.7\n",
       "4      CV130AG          0.6\n",
       "...        ...          ...\n",
       "13628  LE9 6TP          0.2\n",
       "13629  LE9 6TQ          0.2\n",
       "13630  LE9 6TS          0.1\n",
       "13631  LE9 6TX          0.2\n",
       "13632  LE9 6WB          0.2\n",
       "\n",
       "[13633 rows x 2 columns]"
      ]
     },
     "execution_count": 13,
     "metadata": {},
     "output_type": "execute_result"
    }
   ],
   "source": [
    "df\n"
   ]
  },
  {
   "cell_type": "code",
   "execution_count": 14,
   "metadata": {},
   "outputs": [
    {
     "data": {
      "text/plain": [
       "{'mean': 214391.9, 'stdev': 131203.22354687023}"
      ]
     },
     "execution_count": 14,
     "metadata": {},
     "output_type": "execute_result"
    }
   ],
   "source": [
    "pop_stats\n"
   ]
  }
 ],
 "metadata": {
  "kernelspec": {
   "display_name": "Python 3 (ipykernel)",
   "language": "python",
   "name": "python3"
  },
  "language_info": {
   "codemirror_mode": {
    "name": "ipython",
    "version": 3
   },
   "file_extension": ".py",
   "mimetype": "text/x-python",
   "name": "python",
   "nbconvert_exporter": "python",
   "pygments_lexer": "ipython3",
   "version": "3.11.5"
  }
 },
 "nbformat": 4,
 "nbformat_minor": 4
}
