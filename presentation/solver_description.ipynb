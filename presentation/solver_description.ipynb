{
 "cells": [
  {
   "cell_type": "markdown",
   "metadata": {},
   "source": [
    "# ODE Solver Description #\n",
    "\n",
    "## solve_atmospheric_entry(): ##\n",
    "The airburst solver is a relatively simple system. To solve the differential equations, the user can choose one of three methods to solve the function: Forward Euler (forward_euler), Improved Euler (improved_euler), and Fourth Order Runge-Kutta (RK4). The formulas are below:\n",
    "\n",
    "### Forward Euler: ###\n",
    "$f(t, y) = \\frac{dy}{dt}$\n",
    "\n",
    "$y_{n+1} = y_{i} + f(t_{i}, y_{i})*\\Delta t $\n",
    "\n",
    "### Improved Euler: ###\n",
    "$f(t, y) = \\frac{dy}{dt}$\n",
    "\n",
    "$y_{n+1} = y_{i} + \\frac{1}{2}*\\Delta t*(f(t_{i}, y_{i}) + f(t_{i+1}, y_{i} + \\Delta t*f(t_{i}, y_{i})))$\n",
    "\n",
    "### RK4: ###\n",
    "$f(t, y) = \\frac{dy}{dt}$\n",
    "\n",
    "$k1 = \\Delta t*f(t_{i}, y_{i})$\n",
    "\n",
    "$k2 = \\Delta t*f(t_{i} + 0.5\\Delta t, y_{i} + 0.5k1)$\n",
    "\n",
    "$k3 = \\Delta t*f(t_{i} + 0.5\\Delta t, y_{i} + 0.5k2)$\n",
    "\n",
    "$k4 = \\Delta t*f(t_{i} + \\Delta t, y_{i} + k3)$\n",
    "\n",
    "$y_{n+1} = y_{i} + \\frac{1}{6}(k1 + 0.5k2 + 0.5k3 + k4)$\n",
    "\n",
    "Note: $y$ and $f(t,y)$ are both array_like variables in this program.\n",
    "\n",
    "This process is done to approximate the value of each variable at each time step. With $y_{n+1}$ set as $y_{i}$ for the next iteration. The program will stop calculating $y_{n+1}$ at one of two times, either when the value of the altitude reaches 0, or when the altitude increases instead of decreases. When altitude reaches 0, this is when the meteor lands and does not travel anymore. In the case the altitude increases, this signifies that the meteor with either bounce around in the Earth's atmosphere or it will leave the Earth's atmosphere. In either case, the meteor will not land.\n",
    "\n",
    "## calculate_energy(): ##\n",
    "Once the function is done running, the kinetic energy and change in kinetic energy can be estimated. The kinetic energy at each point is obtained by this formula:\n",
    "\n",
    "$KE = \\frac{1}{2}mv^2$\n",
    "\n",
    "The change in kinetic energy with respect to altitude was approximated using the central difference formula:\n",
    "\n",
    "$\\frac{dE}{dz} = \\frac{E_{i+1} - E_{i-1}}{z_{i+1} - z_{i-1}}$\n",
    "\n",
    "This formula does not work for the first and last point so the initial change was set to 0 and the final change in kinetic energy was calculated using the backwards difference forumla:\n",
    "\n",
    "$\\frac{dE}{dz} = \\frac{E_{i} - E_{i-1}}{z_{i} - z_{i-1}}$\n",
    "\n",
    "## analyse_outcome(): ##\n",
    "After the energies and changes in energy are calculated, the program can make a determination of whether it is an airburst or cratering event based on the location of the maximum change in kinetic energy. If the maximum change in energy is at an altitude of 0, then the event is classified as a cratering event. Otherwise, the event is classified as an airburst event.\n"
   ]
  }
 ],
 "metadata": {
  "language_info": {
   "name": "python"
  }
 },
 "nbformat": 4,
 "nbformat_minor": 2
}
